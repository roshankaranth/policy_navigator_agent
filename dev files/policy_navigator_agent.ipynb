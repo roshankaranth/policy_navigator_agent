{
 "cells": [
  {
   "cell_type": "code",
   "execution_count": 1,
   "id": "d0eae2db-9a4a-4e36-9167-e5fac79d2b4f",
   "metadata": {},
   "outputs": [],
   "source": [
    "from dotenv import load_dotenv\n",
    "from langchain_google_genai import ChatGoogleGenerativeAI\n",
    "from langgraph.graph import MessagesState, StateGraph, START, END\n",
    "from IPython.display import Image,display\n",
    "from langchain_core.runnables.graph import CurveStyle, MermaidDrawMethod,NodeStyles\n",
    "from langchain_core.messages import HumanMessage, ToolMessage, RemoveMessage, SystemMessage\n",
    "from tavily import TavilyClient\n",
    "from langgraph.prebuilt import tools_condition, ToolNode\n",
    "import os\n",
    "from rag_pipeline import *\n",
    "from langgraph.checkpoint.memory import MemorySaver\n",
    "from prompts import *\n",
    "from state import *"
   ]
  },
  {
   "cell_type": "code",
   "execution_count": 2,
   "id": "781625e1-bd69-4765-baf5-fc80ca91f984",
   "metadata": {},
   "outputs": [],
   "source": [
    "_ = load_dotenv()\n",
    "llm = ChatGoogleGenerativeAI(model=\"gemini-2.0-flash\", temperature=0)\n",
    "tavily_client = TavilyClient(os.getenv(\"TAVILY_API_KEY\"))"
   ]
  },
  {
   "cell_type": "code",
   "execution_count": 3,
   "id": "3e575dfa-2d73-416a-aa82-89628fd3b19c",
   "metadata": {},
   "outputs": [],
   "source": [
    "def format_chat_history(messages: list[dict]) -> str:\n",
    "    return \"\\n\".join(\n",
    "        f\"{m.role.capitalize()}: {m['content'].strip()}\" for m in messages\n",
    "    )"
   ]
  },
  {
   "cell_type": "code",
   "execution_count": 4,
   "id": "42315c6f-d764-480b-8c70-7381b963eacd",
   "metadata": {},
   "outputs": [
    {
     "ename": "SyntaxError",
     "evalue": "unmatched ']' (3397203396.py, line 51)",
     "output_type": "error",
     "traceback": [
      "  \u001b[36mCell\u001b[39m\u001b[36m \u001b[39m\u001b[32mIn[4]\u001b[39m\u001b[32m, line 51\u001b[39m\n\u001b[31m    \u001b[39m\u001b[31mdelete_messages = [SystemMessage(content=system_message)] + delete_messages]\u001b[39m\n                                                                               ^\n\u001b[31mSyntaxError\u001b[39m\u001b[31m:\u001b[39m unmatched ']'\n"
     ]
    }
   ],
   "source": [
    "def web_search_tool(query : str) -> str:\n",
    "    \"\"\"Search on the web for answers\n",
    "\n",
    "    Args: \n",
    "        query : str\n",
    "    \"\"\"\n",
    "    print(\"Searching the web..\")\n",
    "    response = tavily_client.search(query)\n",
    "    return response[\"results\"]\n",
    "\n",
    "def context_retriever(query : str) -> str:\n",
    "    \"\"\" Fectches documents from vectorDB\n",
    "\n",
    "    Args:\n",
    "        query : str\n",
    "    \"\"\"\n",
    "    retrieved_docs = retrival_pipeline(query)\n",
    "    return retrieved_docs\n",
    "\n",
    "tools = [web_search_tool, context_retriever]\n",
    "llm_with_tools = llm.bind_tools(tools)\n",
    "\n",
    "def llm_node(state : AgentState):\n",
    "    clean_messages = state[\"messages\"]\n",
    "    \n",
    "    if state[\"intent\"] == \"eli5\":\n",
    "        prompt = ELI5_Prompt.format(chat_history = clean_messages)\n",
    "    elif state[\"intent\"] == \"extract_entities\":\n",
    "        prompt = Entity_Extraction_Prompt.format(chat_history = clean_messages)\n",
    "    elif state[\"intent\"] == \"general_qa\":\n",
    "        prompt = general_qa_prompt.format(chat_history = clean_messages)\n",
    "    elif state[\"intent\"] == \"policy_comparison\":\n",
    "        prompt = Policy_Comparison_Prompt.format(chat_history = clean_messages)\n",
    "\n",
    "    response = llm_with_tools.invoke(prompt)\n",
    "    return {\"response\" : response.content, \"messages\" : response}\n",
    "\n",
    "def intent_handler(state : AgentInputState):\n",
    "    user_query = state[\"messages\"][-1].content\n",
    "    prompt = Intent_Handler_Prompt.format(query = user_query)\n",
    "    response = llm.invoke(prompt)\n",
    "    intent = response.content\n",
    "    return {\"intent\" : intent, \"query\" : user_query, \"messages\" : response}\n",
    "\n",
    "def summarize_node(state : AgentInputState):\n",
    "    if(len(state[\"messages\"]) > 10):\n",
    "        prompt = summary_prompt.format(last_9_messages = state[\"messages\"][:-2])\n",
    "        summary = llm.invoke(prompt)\n",
    "        system_message = f\"Summary of conversation earlier : {summary}\"\n",
    "        delete_messages = [RemoveMessage(id=m.id) for m in state[\"messages\"][:-2]]\n",
    "        delete_messages = [SystemMessage(content=system_message)] + delete_messages]\n",
    "        return {\"messages\" : delete_messages}\n",
    "\n",
    "    return"
   ]
  },
  {
   "cell_type": "code",
   "execution_count": null,
   "id": "eaf94bdf-5dde-42f3-a52c-e727958c01ac",
   "metadata": {},
   "outputs": [],
   "source": [
    "builder = StateGraph(AgentState, input_schema = AgentInputState)\n",
    "memory = MemorySaver()\n",
    "tool_node = ToolNode(tools)\n",
    "config = {\"configurable\" : {\"thread_id\" : \"1\"}}\n",
    "\n",
    "builder.add_node(\"summarize_node\", summarize_node)\n",
    "builder.add_node(\"intent_handler\", intent_handler)\n",
    "builder.add_node(\"llm_node\", llm_node)\n",
    "builder.add_node(\"tools\", tool_node)\n",
    "builder.add_edge(START, \"intent_handler\")\n",
    "builder.add_edge(\"intent_handler\",\"summarize_node\")\n",
    "builder.add_edge(\"summarize_node\", \"llm_node\")\n",
    "builder.add_conditional_edges(\"llm_node\", tools_condition)\n",
    "builder.add_edge(\"tools\", \"llm_node\")\n",
    "\n",
    "graph = builder.compile(checkpointer=memory)\n",
    "\n",
    "display(Image(graph.get_graph().draw_mermaid_png()))\n"
   ]
  },
  {
   "cell_type": "code",
   "execution_count": null,
   "id": "897ce00f-de68-4951-85af-0206b8c80af8",
   "metadata": {},
   "outputs": [],
   "source": [
    "messages = {\"messages\" : []}\n",
    "messages[\"messages\"].append({\"role\" : \"user\", \"content\" : \"What’s the deal with protected marine zones? Can I swim or fish there?\"})\n",
    "response = graph.invoke(messages,config)"
   ]
  },
  {
   "cell_type": "code",
   "execution_count": null,
   "id": "eb1e233d-acb9-40c5-8c99-b33f5bac912a",
   "metadata": {},
   "outputs": [],
   "source": [
    "for m in response[\"messages\"]:\n",
    "    m.pretty_print()"
   ]
  },
  {
   "cell_type": "code",
   "execution_count": null,
   "id": "f746fd9a-3c38-426c-9583-b93f11421cdc",
   "metadata": {},
   "outputs": [],
   "source": [
    "messages = {\"messages\" : []}\n",
    "messages[\"messages\"].append({\"role\" : \"user\", \"content\" : \"Compare the key differences between the Clean Air Act and the Clean Water Act, focusing on enforcement mechanisms and penalties for non-compliance.\"})\n",
    "response = graph.invoke(messages,config)"
   ]
  },
  {
   "cell_type": "code",
   "execution_count": null,
   "id": "0e08e362-8ef8-4eef-91bd-8072b4d6c50b",
   "metadata": {},
   "outputs": [],
   "source": [
    "for m in response[\"messages\"]:\n",
    "    m.pretty_print()"
   ]
  },
  {
   "cell_type": "code",
   "execution_count": null,
   "id": "9d4d5e19-a056-4e36-9e6e-1fc83a59b103",
   "metadata": {},
   "outputs": [],
   "source": [
    "messages = {\"messages\" : []}\n",
    "messages[\"messages\"].append({\"role\" : \"user\", \"content\" : \"\"\"From the following paragraph, identify all federal agencies and legal citations mentioned:\n",
    "'Under the Clean Air Act (42 U.S.C. § 7401), the Environmental Protection Agency collaborates with the Department of Transportation to regulate vehicle emissions.' \"\"\"})\n",
    "response = graph.invoke(messages,config)"
   ]
  },
  {
   "cell_type": "code",
   "execution_count": null,
   "id": "f8d5966b-3f72-4b7b-8acf-c7961f826e01",
   "metadata": {},
   "outputs": [],
   "source": [
    "for m in response[\"messages\"]:\n",
    "    m.pretty_print()"
   ]
  },
  {
   "cell_type": "code",
   "execution_count": null,
   "id": "7549cc2e-0d6e-44c4-8d84-881997cacccb",
   "metadata": {},
   "outputs": [],
   "source": []
  }
 ],
 "metadata": {
  "kernelspec": {
   "display_name": "Python 3 (ipykernel)",
   "language": "python",
   "name": "python3"
  },
  "language_info": {
   "codemirror_mode": {
    "name": "ipython",
    "version": 3
   },
   "file_extension": ".py",
   "mimetype": "text/x-python",
   "name": "python",
   "nbconvert_exporter": "python",
   "pygments_lexer": "ipython3",
   "version": "3.12.3"
  }
 },
 "nbformat": 4,
 "nbformat_minor": 5
}
